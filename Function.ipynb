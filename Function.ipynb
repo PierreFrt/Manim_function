{
 "cells": [
  {
   "cell_type": "code",
   "execution_count": 24,
   "metadata": {},
   "outputs": [],
   "source": [
    "import jupyter_manim\n",
    "from manim import *"
   ]
  },
  {
   "cell_type": "code",
   "execution_count": 23,
   "metadata": {},
   "outputs": [
    {
     "name": "stderr",
     "output_type": "stream",
     "text": [
      "                                                                      \r"
     ]
    },
    {
     "data": {
      "text/html": [
       "<video src=\"media/jupyter/FirstCircle@2022-09-11@09-36-42.mp4\" controls autoplay loop style=\"max-width: 60%;\"  >\n",
       "      Your browser does not support the <code>video</code> element.\n",
       "    </video>"
      ],
      "text/plain": [
       "<IPython.core.display.Video object>"
      ]
     },
     "metadata": {},
     "output_type": "display_data"
    }
   ],
   "source": [
    "%%manim -v WARNING -ql FirstCircle\n",
    "\n",
    "class FirstCircle(Scene):\n",
    "  def construct(self):\n",
    "    number_line = NumberLine(\n",
    "      x_range=[-5, 5, 1],\n",
    "      length=10,\n",
    "      color=BLUE,\n",
    "      include_numbers=True).scale(1.5)\n",
    "    num1 = number_line.number_to_point(1)\n",
    "    num2 = number_line.number_to_point(2)\n",
    "    dot1 = Dot(num1, color=RED).scale(2)\n",
    "    dot2 = Dot(num2, color=RED).scale(2)\n",
    "    l = Line(dot1,dot2)\n",
    "    self.play(Create(number_line))\n",
    "    self.add(dot1)\n",
    "    self.add(l)\n",
    "    self.wait(2)\n"
   ]
  },
  {
   "cell_type": "code",
   "execution_count": 142,
   "metadata": {},
   "outputs": [
    {
     "name": "stderr",
     "output_type": "stream",
     "text": [
      "                                                                                                    \r"
     ]
    },
    {
     "data": {
      "text/html": [
       "<video src=\"media/jupyter/Graphlog@2022-09-11@17-58-42.mp4\" controls autoplay loop style=\"max-width: 60%;\"  >\n",
       "      Your browser does not support the <code>video</code> element.\n",
       "    </video>"
      ],
      "text/plain": [
       "<IPython.core.display.Video object>"
      ]
     },
     "metadata": {},
     "output_type": "display_data"
    }
   ],
   "source": [
    "%%manim -v WARNING -qh Graphlog\n",
    "\n",
    "import math\n",
    "\n",
    "\n",
    "class Graphlog(MovingCameraScene):\n",
    "  def construct(self):\n",
    "    self.camera.frame.save_state()\n",
    "    ax = Axes(\n",
    "      x_range=[0.0001, 10, 1],\n",
    "      y_range=[-5, 5, 1],\n",
    "      x_axis_config={\n",
    "        \"numbers_to_include\": [i for i in range(11)]\n",
    "        },\n",
    "      y_axis_config={\n",
    "        \"numbers_to_include\": [i for i in range(-5, 5)]\n",
    "      },\n",
    "      tips = True)\n",
    "    \n",
    "    def func(x):\n",
    "      return np.log(x)\n",
    "    \n",
    "    labels = ax.get_axis_labels()\n",
    "    graph = ax.plot(func, x_range=[0.0001, 12, 0.001]).set_color(BLUE)\n",
    "    graph_label = ax.get_graph_label(graph, label=\"ln(x)\").scale(2).set_color(RED).shift(3*LEFT+0.5*UP)\n",
    "\n",
    "    self.play(Create(ax),Create(labels))\n",
    "    self.wait(0.5)\n",
    "    self.play(Write(graph_label))\n",
    "    self.play(Create(graph),run_time=2)\n",
    "    self.wait(2)\n",
    "    t = ValueTracker(0.0001)\n",
    "    initial_point = [ax.c2p(t.get_value(),func(t.get_value()))]\n",
    "    dot = Dot(initial_point, color=YELLOW).scale(1.5)\n",
    "    dot.add_updater(lambda m: m.move_to(ax.c2p(t.get_value(),func(t.get_value()))))\n",
    "    self.add(dot)\n",
    "    self.play(t.animate.set_value(2))\n",
    "    x_line = ax.get_vertical_line(ax.i2gp(2,graph))\n",
    "    y_line = ax.get_horizontal_line(ax.i2gp(2,graph))\n",
    "    self.play(self.camera.frame.animate.scale(0.4).move_to(dot).shift(0.5*LEFT))\n",
    "    self.play(Create(x_line),Create(y_line))\n",
    "    self.play(Write(MathTex(r\"ln(2)\\approx {:.2f}>0\".format(func(2)),color=RED).move_to(dot).shift(0.5*UP+0.3*LEFT)))\n",
    "    self.wait(2)\n",
    "\n",
    "\n",
    "\n"
   ]
  },
  {
   "cell_type": "code",
   "execution_count": 77,
   "metadata": {},
   "outputs": [
    {
     "data": {
      "image/png": "[encoded data removed]",
      "text/plain": [
       "<IPython.core.display.Image object>"
      ]
     },
     "metadata": {},
     "output_type": "display_data"
    }
   ],
   "source": [
    "%%manim -v WARNING -ql  Graph\n",
    "\n",
    "import math\n",
    "\n",
    "\n",
    "class Graph(MovingCameraScene):\n",
    "  def construct(self):\n",
    "    t = MathTex(r\"ln(2)\\approx {:.2f}  > 0\".format(np.log(2)),color=RED)\n",
    "    self.add(t)"
   ]
  },
  {
   "cell_type": "code",
   "execution_count": 150,
   "metadata": {},
   "outputs": [
    {
     "name": "stderr",
     "output_type": "stream",
     "text": [
      "                                                                                               \r"
     ]
    },
    {
     "data": {
      "text/html": [
       "<video src=\"media/jupyter/Graphexp@2022-09-11@18-30-09.mp4\" controls autoplay loop style=\"max-width: 60%;\"  >\n",
       "      Your browser does not support the <code>video</code> element.\n",
       "    </video>"
      ],
      "text/plain": [
       "<IPython.core.display.Video object>"
      ]
     },
     "metadata": {},
     "output_type": "display_data"
    }
   ],
   "source": [
    "%%manim -v WARNING -ql Graphexp\n",
    "\n",
    "import math\n",
    "\n",
    "\n",
    "class Graphexp(MovingCameraScene):\n",
    "  def construct(self):\n",
    "    ax = Axes(\n",
    "      x_range=[-10,11 ,1],\n",
    "      y_range=[0, 110,10],\n",
    "      x_axis_config={\n",
    "        \"numbers_to_include\": [i for i in range(-10,12,2)]\n",
    "      },\n",
    "      y_axis_config={\n",
    "        \"numbers_to_include\": [i for i in range(0,110,20)]\n",
    "      },\n",
    "      tips = True)\n",
    "    \n",
    "    def func(x):\n",
    "      return 2**x\n",
    "    \n",
    "    labels = ax.get_axis_labels()\n",
    "    graph = ax.plot(func, x_range=[-10, 10, 0.001],stroke_width=9).set_color(BLUE)\n",
    "    graph_label = ax.get_graph_label(graph, label=\"2^x\").shift(0*UP+1.2*LEFT).scale(2).set_color(RED)\n",
    "    self.play(Create(ax),Create(labels))\n",
    "    self.play(Write(graph_label))\n",
    "    self.play(Create(graph),run_time=3)\n",
    "    self.wait(3)\n",
    "    t=ValueTracker(-10)\n",
    "    initial_point = [ax.c2p(t.get_value(),func(t.get_value()))]\n",
    "    dot = Dot(initial_point, color=YELLOW).scale(1.5)\n",
    "    dot.add_updater(lambda m: m.move_to(ax.c2p(t.get_value(),func(t.get_value()))))\n",
    "    self.add(dot)\n",
    "    self.play(t.animate.set_value(np.log(5)/np.log(2)))\n",
    "    #x_line = ax.get_vertical_line(ax.i2gp(np.log(5)/np.log(2),graph))\n",
    "    y_line = ax.get_horizontal_line(ax.i2gp(np.log(5)/np.log(2),graph))\n",
    "    t_label = ax.get_T_label(x_val=np.log(5)/np.log(2), graph=graph, label=MathTex(r\"\\approx 2,32\"))\n",
    "    self.play(self.camera.frame.animate.scale(0.6).move_to(dot).shift(0.5*LEFT))\n",
    "    x1 = MathTex(r'5').move_to(ax.c2p(0,5)).shift(0.1*LEFT)\n",
    "    self.play(Write(x1),Create(t_label),Create(y_line))\n",
    "    self.wait(2)"
   ]
  },
  {
   "cell_type": "code",
   "execution_count": 122,
   "metadata": {},
   "outputs": [
    {
     "name": "stdout",
     "output_type": "stream",
     "text": [
      "1024\n"
     ]
    }
   ],
   "source": [
    "print(2**10)"
   ]
  },
  {
   "cell_type": "code",
   "execution_count": 157,
   "metadata": {},
   "outputs": [
    {
     "ename": "NameError",
     "evalue": "name 'colors' is not defined",
     "output_type": "error",
     "traceback": [
      "\u001b[0;31m---------------------------------------------------------------------------\u001b[0m",
      "\u001b[0;31mNameError\u001b[0m                                 Traceback (most recent call last)",
      "\u001b[0;32m<ipython-input-157-37db9b6c1d22>\u001b[0m in \u001b[0;36m<module>\u001b[0;34m\u001b[0m\n\u001b[0;32m----> 1\u001b[0;31m \u001b[0mget_ipython\u001b[0m\u001b[0;34m(\u001b[0m\u001b[0;34m)\u001b[0m\u001b[0;34m.\u001b[0m\u001b[0mrun_cell_magic\u001b[0m\u001b[0;34m(\u001b[0m\u001b[0;34m'manim'\u001b[0m\u001b[0;34m,\u001b[0m \u001b[0;34m'-v WARNING -ql Dragon'\u001b[0m\u001b[0;34m,\u001b[0m \u001b[0;34m'from itertools import cycle\\n\\nclass Dragon(MovingCameraScene):\\n    CONFIG = {\\n        \"iterations\":15,\\n        \"angle\":90*DEGREES,\\n        \"border_proportion\":1.25,\\n        \"colors\":[RED_A,RED_C,RED_E,BLUE_A,\\n                  BLUE_C,BLUE_E,YELLOW_A,YELLOW_C,\\n                  YELLOW_E,PURPLE_A,PURPLE_C,PURPLE_E]\\n    }\\n    colors = [RED_A,RED_C,RED_E,BLUE_A,\\n                  BLUE_C,BLUE_E,YELLOW_A,YELLOW_C,\\n                  YELLOW_E,PURPLE_A,PURPLE_C,PURPLE_E]\\n    def construct(self):\\n        self.color = cycle(colors)\\n        path = VGroup()\\n        first_line = Line(ORIGIN, UP / 5, color = next(self.color))\\n        path.add(first_line)\\n\\n        self.camera_frame.set_height(first_line.get_height() * self.border_proportion)\\n        self.camera_frame.move_to(first_line)\\n        self.play(Create(first_line))\\n        self.add_foreground_mobject(path)\\n\\n        self.target_path = self.get_all_paths(path,self.iterations)\\n        for i in range(self.iterations):\\n            self.duplicate_path(path,i)\\n        self.wait()\\n\\n    def duplicate_path(self,path,i):\\n        set_paths = self.target_path[:2**(i + 1)]\\n        height = set_paths.get_height() * self.border_proportion\\n        new_path = path.copy()\\n        new_path.set_color(next(self.color))\\n        self.add(new_path)\\n        point = self.get_last_point(path)\\n        self.play(\\n            Rotating(\\n                new_path,\\n                radians=self.angle,\\n                about_point=path[-1].points[point],\\n                rate_func=linear\\n                ),\\n            self.camera_frame.move_to,set_paths,\\n            self.camera_frame.set_height,height,\\n            run_time=1, rate_func=smooth\\n            )\\n        self.add_foreground_mobject(new_path)\\n        post_path = reversed([*new_path])\\n        path.add(*post_path)\\n\\n    def get_all_paths(self, path, iterations):\\n        target_path = path.copy()\\n        for _ in range(iterations):\\n            new_path = target_path.copy()\\n            point = self.get_last_point(new_path)\\n            new_path.rotate(\\n                        self.angle, \\n                        about_point=target_path[-1].points[point],\\n                    )\\n            post_path = reversed([*new_path])\\n            target_path.add(*post_path)\\n\\n        return target_path\\n\\n    def get_last_point(self, path):\\n        return 0 if len(path) > 1 else -1\\n'\u001b[0m\u001b[0;34m)\u001b[0m\u001b[0;34m\u001b[0m\u001b[0;34m\u001b[0m\u001b[0m\n\u001b[0m",
      "\u001b[0;32m~/Library/Python/3.9/lib/python/site-packages/IPython/core/interactiveshell.py\u001b[0m in \u001b[0;36mrun_cell_magic\u001b[0;34m(self, magic_name, line, cell)\u001b[0m\n\u001b[1;32m   2389\u001b[0m             \u001b[0;32mwith\u001b[0m \u001b[0mself\u001b[0m\u001b[0;34m.\u001b[0m\u001b[0mbuiltin_trap\u001b[0m\u001b[0;34m:\u001b[0m\u001b[0;34m\u001b[0m\u001b[0;34m\u001b[0m\u001b[0m\n\u001b[1;32m   2390\u001b[0m                 \u001b[0margs\u001b[0m \u001b[0;34m=\u001b[0m \u001b[0;34m(\u001b[0m\u001b[0mmagic_arg_s\u001b[0m\u001b[0;34m,\u001b[0m \u001b[0mcell\u001b[0m\u001b[0;34m)\u001b[0m\u001b[0;34m\u001b[0m\u001b[0;34m\u001b[0m\u001b[0m\n\u001b[0;32m-> 2391\u001b[0;31m                 \u001b[0mresult\u001b[0m \u001b[0;34m=\u001b[0m \u001b[0mfn\u001b[0m\u001b[0;34m(\u001b[0m\u001b[0;34m*\u001b[0m\u001b[0margs\u001b[0m\u001b[0;34m,\u001b[0m \u001b[0;34m**\u001b[0m\u001b[0mkwargs\u001b[0m\u001b[0;34m)\u001b[0m\u001b[0;34m\u001b[0m\u001b[0;34m\u001b[0m\u001b[0m\n\u001b[0m\u001b[1;32m   2392\u001b[0m             \u001b[0;32mreturn\u001b[0m \u001b[0mresult\u001b[0m\u001b[0;34m\u001b[0m\u001b[0;34m\u001b[0m\u001b[0m\n\u001b[1;32m   2393\u001b[0m \u001b[0;34m\u001b[0m\u001b[0m\n",
      "\u001b[0;32m/opt/homebrew/lib/python3.9/site-packages/decorator.py\u001b[0m in \u001b[0;36mfun\u001b[0;34m(*args, **kw)\u001b[0m\n\u001b[1;32m    230\u001b[0m             \u001b[0;32mif\u001b[0m \u001b[0;32mnot\u001b[0m \u001b[0mkwsyntax\u001b[0m\u001b[0;34m:\u001b[0m\u001b[0;34m\u001b[0m\u001b[0;34m\u001b[0m\u001b[0m\n\u001b[1;32m    231\u001b[0m                 \u001b[0margs\u001b[0m\u001b[0;34m,\u001b[0m \u001b[0mkw\u001b[0m \u001b[0;34m=\u001b[0m \u001b[0mfix\u001b[0m\u001b[0;34m(\u001b[0m\u001b[0margs\u001b[0m\u001b[0;34m,\u001b[0m \u001b[0mkw\u001b[0m\u001b[0;34m,\u001b[0m \u001b[0msig\u001b[0m\u001b[0;34m)\u001b[0m\u001b[0;34m\u001b[0m\u001b[0;34m\u001b[0m\u001b[0m\n\u001b[0;32m--> 232\u001b[0;31m             \u001b[0;32mreturn\u001b[0m \u001b[0mcaller\u001b[0m\u001b[0;34m(\u001b[0m\u001b[0mfunc\u001b[0m\u001b[0;34m,\u001b[0m \u001b[0;34m*\u001b[0m\u001b[0;34m(\u001b[0m\u001b[0mextras\u001b[0m \u001b[0;34m+\u001b[0m \u001b[0margs\u001b[0m\u001b[0;34m)\u001b[0m\u001b[0;34m,\u001b[0m \u001b[0;34m**\u001b[0m\u001b[0mkw\u001b[0m\u001b[0;34m)\u001b[0m\u001b[0;34m\u001b[0m\u001b[0;34m\u001b[0m\u001b[0m\n\u001b[0m\u001b[1;32m    233\u001b[0m     \u001b[0mfun\u001b[0m\u001b[0;34m.\u001b[0m\u001b[0m__name__\u001b[0m \u001b[0;34m=\u001b[0m \u001b[0mfunc\u001b[0m\u001b[0;34m.\u001b[0m\u001b[0m__name__\u001b[0m\u001b[0;34m\u001b[0m\u001b[0;34m\u001b[0m\u001b[0m\n\u001b[1;32m    234\u001b[0m     \u001b[0mfun\u001b[0m\u001b[0;34m.\u001b[0m\u001b[0m__doc__\u001b[0m \u001b[0;34m=\u001b[0m \u001b[0mfunc\u001b[0m\u001b[0;34m.\u001b[0m\u001b[0m__doc__\u001b[0m\u001b[0;34m\u001b[0m\u001b[0;34m\u001b[0m\u001b[0m\n",
      "\u001b[0;32m~/Library/Python/3.9/lib/python/site-packages/IPython/core/magic.py\u001b[0m in \u001b[0;36m<lambda>\u001b[0;34m(f, *a, **k)\u001b[0m\n\u001b[1;32m    185\u001b[0m     \u001b[0;31m# but it's overkill for just that one bit of state.\u001b[0m\u001b[0;34m\u001b[0m\u001b[0;34m\u001b[0m\u001b[0m\n\u001b[1;32m    186\u001b[0m     \u001b[0;32mdef\u001b[0m \u001b[0mmagic_deco\u001b[0m\u001b[0;34m(\u001b[0m\u001b[0marg\u001b[0m\u001b[0;34m)\u001b[0m\u001b[0;34m:\u001b[0m\u001b[0;34m\u001b[0m\u001b[0;34m\u001b[0m\u001b[0m\n\u001b[0;32m--> 187\u001b[0;31m         \u001b[0mcall\u001b[0m \u001b[0;34m=\u001b[0m \u001b[0;32mlambda\u001b[0m \u001b[0mf\u001b[0m\u001b[0;34m,\u001b[0m \u001b[0;34m*\u001b[0m\u001b[0ma\u001b[0m\u001b[0;34m,\u001b[0m \u001b[0;34m**\u001b[0m\u001b[0mk\u001b[0m\u001b[0;34m:\u001b[0m \u001b[0mf\u001b[0m\u001b[0;34m(\u001b[0m\u001b[0;34m*\u001b[0m\u001b[0ma\u001b[0m\u001b[0;34m,\u001b[0m \u001b[0;34m**\u001b[0m\u001b[0mk\u001b[0m\u001b[0;34m)\u001b[0m\u001b[0;34m\u001b[0m\u001b[0;34m\u001b[0m\u001b[0m\n\u001b[0m\u001b[1;32m    188\u001b[0m \u001b[0;34m\u001b[0m\u001b[0m\n\u001b[1;32m    189\u001b[0m         \u001b[0;32mif\u001b[0m \u001b[0mcallable\u001b[0m\u001b[0;34m(\u001b[0m\u001b[0marg\u001b[0m\u001b[0;34m)\u001b[0m\u001b[0;34m:\u001b[0m\u001b[0;34m\u001b[0m\u001b[0;34m\u001b[0m\u001b[0m\n",
      "\u001b[0;32m/opt/homebrew/lib/python3.9/site-packages/manim/utils/ipython_magic.py\u001b[0m in \u001b[0;36mmanim\u001b[0;34m(self, line, cell, local_ns)\u001b[0m\n\u001b[1;32m    146\u001b[0m                     \u001b[0mSceneClass\u001b[0m \u001b[0;34m=\u001b[0m \u001b[0mlocal_ns\u001b[0m\u001b[0;34m[\u001b[0m\u001b[0mconfig\u001b[0m\u001b[0;34m[\u001b[0m\u001b[0;34m\"scene_names\"\u001b[0m\u001b[0;34m]\u001b[0m\u001b[0;34m[\u001b[0m\u001b[0;36m0\u001b[0m\u001b[0;34m]\u001b[0m\u001b[0;34m]\u001b[0m\u001b[0;34m\u001b[0m\u001b[0;34m\u001b[0m\u001b[0m\n\u001b[1;32m    147\u001b[0m                     \u001b[0mscene\u001b[0m \u001b[0;34m=\u001b[0m \u001b[0mSceneClass\u001b[0m\u001b[0;34m(\u001b[0m\u001b[0mrenderer\u001b[0m\u001b[0;34m=\u001b[0m\u001b[0mrenderer\u001b[0m\u001b[0;34m)\u001b[0m\u001b[0;34m\u001b[0m\u001b[0;34m\u001b[0m\u001b[0m\n\u001b[0;32m--> 148\u001b[0;31m                     \u001b[0mscene\u001b[0m\u001b[0;34m.\u001b[0m\u001b[0mrender\u001b[0m\u001b[0;34m(\u001b[0m\u001b[0;34m)\u001b[0m\u001b[0;34m\u001b[0m\u001b[0;34m\u001b[0m\u001b[0m\n\u001b[0m\u001b[1;32m    149\u001b[0m                 \u001b[0;32mfinally\u001b[0m\u001b[0;34m:\u001b[0m\u001b[0;34m\u001b[0m\u001b[0;34m\u001b[0m\u001b[0m\n\u001b[1;32m    150\u001b[0m                     \u001b[0;31m# Shader cache becomes invalid as the context is destroyed\u001b[0m\u001b[0;34m\u001b[0m\u001b[0;34m\u001b[0m\u001b[0m\n",
      "\u001b[0;32m/opt/homebrew/lib/python3.9/site-packages/manim/scene/scene.py\u001b[0m in \u001b[0;36mrender\u001b[0;34m(self, preview)\u001b[0m\n\u001b[1;32m    220\u001b[0m         \u001b[0mself\u001b[0m\u001b[0;34m.\u001b[0m\u001b[0msetup\u001b[0m\u001b[0;34m(\u001b[0m\u001b[0;34m)\u001b[0m\u001b[0;34m\u001b[0m\u001b[0;34m\u001b[0m\u001b[0m\n\u001b[1;32m    221\u001b[0m         \u001b[0;32mtry\u001b[0m\u001b[0;34m:\u001b[0m\u001b[0;34m\u001b[0m\u001b[0;34m\u001b[0m\u001b[0m\n\u001b[0;32m--> 222\u001b[0;31m             \u001b[0mself\u001b[0m\u001b[0;34m.\u001b[0m\u001b[0mconstruct\u001b[0m\u001b[0;34m(\u001b[0m\u001b[0;34m)\u001b[0m\u001b[0;34m\u001b[0m\u001b[0;34m\u001b[0m\u001b[0m\n\u001b[0m\u001b[1;32m    223\u001b[0m         \u001b[0;32mexcept\u001b[0m \u001b[0mEndSceneEarlyException\u001b[0m\u001b[0;34m:\u001b[0m\u001b[0;34m\u001b[0m\u001b[0;34m\u001b[0m\u001b[0m\n\u001b[1;32m    224\u001b[0m             \u001b[0;32mpass\u001b[0m\u001b[0;34m\u001b[0m\u001b[0;34m\u001b[0m\u001b[0m\n",
      "\u001b[0;32m<string>\u001b[0m in \u001b[0;36mconstruct\u001b[0;34m(self)\u001b[0m\n",
      "\u001b[0;31mNameError\u001b[0m: name 'colors' is not defined"
     ]
    }
   ],
   "source": [
    "%%manim -v WARNING -ql Dragon\n",
    "from itertools import cycle\n",
    "\n",
    "class Dragon(MovingCameraScene):\n",
    "    CONFIG = {\n",
    "        \"iterations\":15,\n",
    "        \"angle\":90*DEGREES,\n",
    "        \"border_proportion\":1.25,\n",
    "        \"colors\":[RED_A,RED_C,RED_E,BLUE_A,\n",
    "                  BLUE_C,BLUE_E,YELLOW_A,YELLOW_C,\n",
    "                  YELLOW_E,PURPLE_A,PURPLE_C,PURPLE_E]\n",
    "    }\n",
    "    colors = [RED_A,RED_C,RED_E,BLUE_A,\n",
    "                  BLUE_C,BLUE_E,YELLOW_A,YELLOW_C,\n",
    "                  YELLOW_E,PURPLE_A,PURPLE_C,PURPLE_E]\n",
    "    def construct(self):\n",
    "        self.color = cycle(colors)\n",
    "        path = VGroup()\n",
    "        first_line = Line(ORIGIN, UP / 5, color = next(self.color))\n",
    "        path.add(first_line)\n",
    "\n",
    "        self.camera_frame.set_height(first_line.get_height() * self.border_proportion)\n",
    "        self.camera_frame.move_to(first_line)\n",
    "        self.play(Create(first_line))\n",
    "        self.add_foreground_mobject(path)\n",
    "\n",
    "        self.target_path = self.get_all_paths(path,self.iterations)\n",
    "        for i in range(self.iterations):\n",
    "            self.duplicate_path(path,i)\n",
    "        self.wait()\n",
    "\n",
    "    def duplicate_path(self,path,i):\n",
    "        set_paths = self.target_path[:2**(i + 1)]\n",
    "        height = set_paths.get_height() * self.border_proportion\n",
    "        new_path = path.copy()\n",
    "        new_path.set_color(next(self.color))\n",
    "        self.add(new_path)\n",
    "        point = self.get_last_point(path)\n",
    "        self.play(\n",
    "            Rotating(\n",
    "                new_path,\n",
    "                radians=self.angle,\n",
    "                about_point=path[-1].points[point],\n",
    "                rate_func=linear\n",
    "                ),\n",
    "            self.camera_frame.move_to,set_paths,\n",
    "            self.camera_frame.set_height,height,\n",
    "            run_time=1, rate_func=smooth\n",
    "            )\n",
    "        self.add_foreground_mobject(new_path)\n",
    "        post_path = reversed([*new_path])\n",
    "        path.add(*post_path)\n",
    "\n",
    "    def get_all_paths(self, path, iterations):\n",
    "        target_path = path.copy()\n",
    "        for _ in range(iterations):\n",
    "            new_path = target_path.copy()\n",
    "            point = self.get_last_point(new_path)\n",
    "            new_path.rotate(\n",
    "                        self.angle, \n",
    "                        about_point=target_path[-1].points[point],\n",
    "                    )\n",
    "            post_path = reversed([*new_path])\n",
    "            target_path.add(*post_path)\n",
    "\n",
    "        return target_path\n",
    "\n",
    "    def get_last_point(self, path):\n",
    "        return 0 if len(path) > 1 else -1"
   ]
  },
  {
   "cell_type": "code",
   "execution_count": null,
   "metadata": {},
   "outputs": [],
   "source": []
  }
 ],
 "metadata": {
  "kernelspec": {
   "display_name": "Python 3.9.14 64-bit",
   "language": "python",
   "name": "python3"
  },
  "language_info": {
   "codemirror_mode": {
    "name": "ipython",
    "version": 3
   },
   "file_extension": ".py",
   "mimetype": "text/x-python",
   "name": "python",
   "nbconvert_exporter": "python",
   "pygments_lexer": "ipython3",
   "version": "3.9.14"
  },
  "orig_nbformat": 4,
  "vscode": {
   "interpreter": {
    "hash": "a665b5d41d17b532ea9890333293a1b812fa0b73c9c25c950b3cedf1bebd0438"
   }
  }
 },
 "nbformat": 4,
 "nbformat_minor": 2
}
