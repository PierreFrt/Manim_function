{
 "cells": [
  {
   "cell_type": "code",
   "execution_count": 1,
   "metadata": {},
   "outputs": [
    {
     "data": {
      "text/html": [
       "<pre style=\"white-space:pre;overflow-x:auto;line-height:normal;font-family:Menlo,'DejaVu Sans Mono',consolas,'Courier New',monospace\">Manim Community <span style=\"color: #008000; text-decoration-color: #008000\">v0.15.2</span>\n",
       "\n",
       "</pre>\n"
      ],
      "text/plain": [
       "Manim Community \u001b[32mv0.\u001b[0m\u001b[32m15.2\u001b[0m\n",
       "\n"
      ]
     },
     "metadata": {},
     "output_type": "display_data"
    }
   ],
   "source": [
    "import jupyter_manim\n",
    "from manim import *"
   ]
  },
  {
   "cell_type": "code",
   "execution_count": 2,
   "metadata": {},
   "outputs": [
    {
     "name": "stderr",
     "output_type": "stream",
     "text": [
      "                                                                                                    \r"
     ]
    },
    {
     "data": {
      "text/html": [
       "<video src=\"media/jupyter/Graphlog@2022-09-12@00-06-27.mp4\" controls autoplay loop style=\"max-width: 60%;\"  >\n",
       "      Your browser does not support the <code>video</code> element.\n",
       "    </video>"
      ],
      "text/plain": [
       "<IPython.core.display.Video object>"
      ]
     },
     "metadata": {},
     "output_type": "display_data"
    }
   ],
   "source": [
    "%%manim -v WARNING -ql Graphlog\n",
    "\n",
    "import numpy as np\n",
    "\n",
    "class Graphlog(MovingCameraScene):\n",
    "  def construct(self):\n",
    "    self.camera.frame.save_state()\n",
    "    ax = Axes(\n",
    "      x_range=[0.0001, 10, 1],\n",
    "      y_range=[-5, 5, 1],\n",
    "      x_axis_config={\n",
    "        \"numbers_to_include\": [i for i in range(11)]\n",
    "        },\n",
    "      y_axis_config={\n",
    "        \"numbers_to_include\": [i for i in range(-5, 5)]\n",
    "      },\n",
    "      tips = True)\n",
    "    \n",
    "    def func(x):\n",
    "      return np.log(x)\n",
    "    \n",
    "    labels = ax.get_axis_labels()\n",
    "    graph = ax.plot(func, x_range=[0.0001, 12, 0.001]).set_color(BLUE)\n",
    "    graph_label = ax.get_graph_label(graph, label=\"ln(x)\").scale(2).set_color(RED).shift(3*LEFT+0.5*UP)\n",
    "\n",
    "    self.play(Create(ax),Create(labels))\n",
    "    self.wait(0.5)\n",
    "    self.play(Write(graph_label))\n",
    "    self.play(Create(graph),run_time=2)\n",
    "    self.wait(2)\n",
    "    t = ValueTracker(0.0001)\n",
    "    initial_point = [ax.c2p(t.get_value(),func(t.get_value()))]\n",
    "    dot = Dot(initial_point, color=YELLOW).scale(1.5)\n",
    "    dot.add_updater(lambda m: m.move_to(ax.c2p(t.get_value(),func(t.get_value()))))\n",
    "    self.add(dot)\n",
    "    self.play(t.animate.set_value(2))\n",
    "    x_line = ax.get_vertical_line(ax.i2gp(2,graph))\n",
    "    y_line = ax.get_horizontal_line(ax.i2gp(2,graph))\n",
    "    self.play(self.camera.frame.animate.scale(0.4).move_to(dot).shift(0.5*LEFT))\n",
    "    self.play(Create(x_line),Create(y_line))\n",
    "    self.play(Write(MathTex(r\"ln(2)\\approx {:.2f}>0\".format(func(2)),color=RED).move_to(dot).shift(0.5*UP+0.3*LEFT)))\n",
    "    self.wait(2)\n",
    "\n",
    "\n",
    "\n"
   ]
  },
  {
   "cell_type": "code",
   "execution_count": 22,
   "metadata": {},
   "outputs": [
    {
     "name": "stderr",
     "output_type": "stream",
     "text": [
      "                                                                                        \r"
     ]
    },
    {
     "data": {
      "text/html": [
       "<video src=\"media/jupyter/Graphexp@2022-09-12@00-37-32.mp4\" controls autoplay loop style=\"max-width: 60%;\"  >\n",
       "      Your browser does not support the <code>video</code> element.\n",
       "    </video>"
      ],
      "text/plain": [
       "<IPython.core.display.Video object>"
      ]
     },
     "metadata": {},
     "output_type": "display_data"
    }
   ],
   "source": [
    "%%manim -v WARNING -ql Graphexp\n",
    "\n",
    "import math\n",
    "\n",
    "\n",
    "class Graphexp(MovingCameraScene):\n",
    "  def construct(self):\n",
    "    ax = Axes(\n",
    "      x_range=[-10,11 ,1],\n",
    "      y_range=[0, 110,10],\n",
    "      x_axis_config={\n",
    "        \"numbers_to_include\": [i for i in range(-10,12,2)]\n",
    "      },\n",
    "      y_axis_config={\n",
    "        \"numbers_to_include\": [i for i in range(0,110,20)]\n",
    "      },\n",
    "      tips = True)\n",
    "    \n",
    "    def func(x):\n",
    "      return 2**x\n",
    "    \n",
    "    labels = ax.get_axis_labels()\n",
    "    graph = ax.plot(func, x_range=[-10, 10, 0.001],stroke_width=9).set_color(BLUE)\n",
    "    graph_label = ax.get_graph_label(graph, label=\"2^x\").shift(0*UP+1.2*LEFT).scale(2).set_color(RED)\n",
    "    self.play(Create(ax),Create(labels))\n",
    "    self.play(Write(graph_label))\n",
    "    self.play(Create(graph),run_time=2)\n",
    "    self.wait(3)\n",
    "    t=ValueTracker(-10)\n",
    "    initial_point = [ax.c2p(t.get_value(),func(t.get_value()))]\n",
    "    dot = Dot(initial_point, color=YELLOW).scale(1.5)\n",
    "    dot.add_updater(lambda m: m.move_to(ax.c2p(t.get_value(),func(t.get_value()))))\n",
    "    self.add(dot)\n",
    "    self.play(t.animate.set_value(np.log(5)/np.log(2)))\n",
    "    #x_line = ax.get_vertical_line(ax.i2gp(np.log(5)/np.log(2),graph))\n",
    "    y_line = ax.get_horizontal_line(ax.i2gp(np.log(5)/np.log(2),graph),line_func = Line).set_color(YELLOW)\n",
    "    t_label = ax.get_T_label(x_val=np.log(5)/np.log(2), graph=graph, label=MathTex(r\"\\approx 2,32\").shift(0*DOWN).set_color(GREEN))\n",
    "    self.play(self.camera.frame.animate.scale(0.4).move_to(dot).shift(0.2*LEFT))\n",
    "    x1 = MathTex(r'5').move_to(ax.c2p(0,5)).shift(0.3*LEFT).set_color(GREEN)\n",
    "    self.play(graph_label.animate.move_to(dot).shift(1*UP).scale(0.75))\n",
    "    self.play(Write(x1),Create(t_label),Create(y_line))\n",
    "    self.wait(2)"
   ]
  },
  {
   "cell_type": "code",
   "execution_count": null,
   "metadata": {},
   "outputs": [],
   "source": []
  }
 ],
 "metadata": {
  "kernelspec": {
   "display_name": "Python 3.9.14 64-bit",
   "language": "python",
   "name": "python3"
  },
  "language_info": {
   "codemirror_mode": {
    "name": "ipython",
    "version": 3
   },
   "file_extension": ".py",
   "mimetype": "text/x-python",
   "name": "python",
   "nbconvert_exporter": "python",
   "pygments_lexer": "ipython3",
   "version": "3.9.14"
  },
  "orig_nbformat": 4,
  "vscode": {
   "interpreter": {
    "hash": "a665b5d41d17b532ea9890333293a1b812fa0b73c9c25c950b3cedf1bebd0438"
   }
  }
 },
 "nbformat": 4,
 "nbformat_minor": 2
}
